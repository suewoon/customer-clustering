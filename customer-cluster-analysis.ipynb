{
 "cells": [
  {
   "cell_type": "markdown",
   "metadata": {
    "collapsed": true
   },
   "source": [
    "Customer Segmentation \n",
    "-------------------\n",
    "<img src=image.png style=\"width: 200px;\"/>\n",
    "- 분석에 가장 기초가 되는 transaction data 를 바탕으로, customer-level의 dimension table을 만들고, 그를 바탕으로 고객에 대해 K-means를 사용한 cluster analysis 수행한다\n",
    "- clustering의 dataset이 될 customer-level table에는 아래와 같은 column들이 들어 갈 수 있다. 3번과 같은 경우 선택할 수 있는 상품이 약 2600개이므로 dimension reduction이 필요하다\n",
    "    1. 상품 구매 금액, 횟수, 주기\n",
    "    2. 지출 금액대 \n",
    "    3. 선택한 상품\n",
    "\n",
    "[1. Load Libraries & Dataset Exploration](#1)  \n",
    "[2. Data Cleaning & Wrangling](#2)  \n",
    "[- 2-1. Fact Table ](#2-1)  \n",
    "[- 2-2. Customer Dimension Table](#2-2)  \n",
    "[3. Dimension Reduction using PCA](#3)  \n",
    "[4. Clustering](#4)  \n",
    "[- 4-1. K-Means clustering](#4-1)  \n",
    "[- 4-2. Model comparison](#4-2)  "
   ]
  },
  {
   "cell_type": "markdown",
   "metadata": {},
   "source": [
    "<a name='1'></a>\n",
    "### 1. Load Libraries & Dataset Exploration   \n",
    "필요한 library와 제공된 dataset을 load하고 각 column들에 대해 간단한 통계정보를 알아본다 "
   ]
  },
  {
   "cell_type": "code",
   "execution_count": 1,
   "metadata": {},
   "outputs": [],
   "source": [
    "# import libraries \n",
    "import numpy as np\n",
    "import pandas as pd \n",
    "from matplotlib import pyplot as plt \n",
    "%matplotlib inline \n",
    "import seaborn as sns "
   ]
  },
  {
   "cell_type": "code",
   "execution_count": 2,
   "metadata": {},
   "outputs": [
    {
     "data": {
      "text/html": [
       "<div>\n",
       "<style>\n",
       "    .dataframe thead tr:only-child th {\n",
       "        text-align: right;\n",
       "    }\n",
       "\n",
       "    .dataframe thead th {\n",
       "        text-align: left;\n",
       "    }\n",
       "\n",
       "    .dataframe tbody tr th {\n",
       "        vertical-align: top;\n",
       "    }\n",
       "</style>\n",
       "<table border=\"1\" class=\"dataframe\">\n",
       "  <thead>\n",
       "    <tr style=\"text-align: right;\">\n",
       "      <th></th>\n",
       "      <th>InvoiceNo</th>\n",
       "      <th>StockCode</th>\n",
       "      <th>Description</th>\n",
       "      <th>Quantity</th>\n",
       "      <th>InvoiceDate</th>\n",
       "      <th>UnitPrice</th>\n",
       "      <th>CustomerID</th>\n",
       "      <th>Country</th>\n",
       "    </tr>\n",
       "  </thead>\n",
       "  <tbody>\n",
       "    <tr>\n",
       "      <th>0</th>\n",
       "      <td>536370</td>\n",
       "      <td>22728</td>\n",
       "      <td>ALARM CLOCK BAKELIKE PINK</td>\n",
       "      <td>24</td>\n",
       "      <td>12/1/10 8:45</td>\n",
       "      <td>3.75</td>\n",
       "      <td>12583.0</td>\n",
       "      <td>France</td>\n",
       "    </tr>\n",
       "    <tr>\n",
       "      <th>1</th>\n",
       "      <td>536370</td>\n",
       "      <td>22727</td>\n",
       "      <td>ALARM CLOCK BAKELIKE RED</td>\n",
       "      <td>24</td>\n",
       "      <td>12/1/10 8:45</td>\n",
       "      <td>3.75</td>\n",
       "      <td>12583.0</td>\n",
       "      <td>France</td>\n",
       "    </tr>\n",
       "    <tr>\n",
       "      <th>2</th>\n",
       "      <td>536370</td>\n",
       "      <td>22726</td>\n",
       "      <td>ALARM CLOCK BAKELIKE GREEN</td>\n",
       "      <td>12</td>\n",
       "      <td>12/1/10 8:45</td>\n",
       "      <td>3.75</td>\n",
       "      <td>12583.0</td>\n",
       "      <td>France</td>\n",
       "    </tr>\n",
       "    <tr>\n",
       "      <th>3</th>\n",
       "      <td>536370</td>\n",
       "      <td>21724</td>\n",
       "      <td>PANDA AND BUNNIES STICKER SHEET</td>\n",
       "      <td>12</td>\n",
       "      <td>12/1/10 8:45</td>\n",
       "      <td>0.85</td>\n",
       "      <td>12583.0</td>\n",
       "      <td>France</td>\n",
       "    </tr>\n",
       "    <tr>\n",
       "      <th>4</th>\n",
       "      <td>536370</td>\n",
       "      <td>21883</td>\n",
       "      <td>STARS GIFT TAPE</td>\n",
       "      <td>24</td>\n",
       "      <td>12/1/10 8:45</td>\n",
       "      <td>0.65</td>\n",
       "      <td>12583.0</td>\n",
       "      <td>France</td>\n",
       "    </tr>\n",
       "  </tbody>\n",
       "</table>\n",
       "</div>"
      ],
      "text/plain": [
       "   InvoiceNo StockCode                      Description  Quantity  \\\n",
       "0     536370     22728        ALARM CLOCK BAKELIKE PINK        24   \n",
       "1     536370     22727        ALARM CLOCK BAKELIKE RED         24   \n",
       "2     536370     22726       ALARM CLOCK BAKELIKE GREEN        12   \n",
       "3     536370     21724  PANDA AND BUNNIES STICKER SHEET        12   \n",
       "4     536370     21883                 STARS GIFT TAPE         24   \n",
       "\n",
       "    InvoiceDate  UnitPrice  CustomerID Country  \n",
       "0  12/1/10 8:45       3.75     12583.0  France  \n",
       "1  12/1/10 8:45       3.75     12583.0  France  \n",
       "2  12/1/10 8:45       3.75     12583.0  France  \n",
       "3  12/1/10 8:45       0.85     12583.0  France  \n",
       "4  12/1/10 8:45       0.65     12583.0  France  "
      ]
     },
     "execution_count": 2,
     "metadata": {},
     "output_type": "execute_result"
    }
   ],
   "source": [
    "# load dataset\n",
    "df = pd.read_csv('data.csv')\n",
    "\n",
    "# first 5 rows \n",
    "df.head()"
   ]
  },
  {
   "cell_type": "code",
   "execution_count": 3,
   "metadata": {},
   "outputs": [
    {
     "data": {
      "text/plain": [
       "(35116, 8)"
      ]
     },
     "execution_count": 3,
     "metadata": {},
     "output_type": "execute_result"
    }
   ],
   "source": [
    "# dimensions \n",
    "df.shape"
   ]
  },
  {
   "cell_type": "code",
   "execution_count": 4,
   "metadata": {},
   "outputs": [
    {
     "name": "stdout",
     "output_type": "stream",
     "text": [
      "min invoice date: 1/10/11 10:35\n",
      "max invoice date: 9/9/11 9:13\n"
     ]
    }
   ],
   "source": [
    "# transactions for about 9 months \n",
    "print('min invoice date:' ,df.InvoiceDate.min())\n",
    "print('max invoice date:' ,df.InvoiceDate.max())"
   ]
  },
  {
   "cell_type": "code",
   "execution_count": 5,
   "metadata": {},
   "outputs": [
    {
     "data": {
      "text/plain": [
       "<matplotlib.axes._subplots.AxesSubplot at 0x10f07f470>"
      ]
     },
     "execution_count": 5,
     "metadata": {},
     "output_type": "execute_result"
    },
    {
     "data": {
      "image/png": "[encoded data removed]",
      "text/plain": [
       "<matplotlib.figure.Figure at 0x11180b828>"
      ]
     },
     "metadata": {},
     "output_type": "display_data"
    }
   ],
   "source": [
    "# Country distribution on dataset\n",
    "plt.figure(figsize=(10, 6))\n",
    "sns.countplot(y='Country', data=df)"
   ]
  },
  {
   "cell_type": "code",
   "execution_count": 6,
   "metadata": {},
   "outputs": [
    {
     "name": "stdout",
     "output_type": "stream",
     "text": [
      "# of items:  2602\n",
      "# of customers:  414\n",
      "# of orders:  1591\n"
     ]
    }
   ],
   "source": [
    "# the number of items \n",
    "print('# of items: ', df.StockCode.nunique())\n",
    "\n",
    "# the number of customers \n",
    "print('# of customers: ', df.CustomerID.nunique())\n",
    "\n",
    "# the number of orders(invoice)\n",
    "print('# of orders: ', df.InvoiceNo.nunique())"
   ]
  },
  {
   "cell_type": "markdown",
   "metadata": {},
   "source": [
    "<a name='2'></a>\n",
    "### 2. Data Cleaning & Wrangling \n",
    "- 주어진 데이터가 transaction 기준(한 row에 하나의 주문 번호, 상품번호, 구매 갯수, 고객번호)이므로 고객이 구매한 상품을 기준으로 clustering 하려면 transaction-level -> customer-level로 테이블을 변형해야 한다.\n",
    "- transaction-level을 fact table이라고 하고 customer-level을 customer dimension table이라고 하자.\n",
    "<a name='2-1'></a>\n",
    "#### 2-1. fact table (transactions-level)"
   ]
  },
  {
   "cell_type": "code",
   "execution_count": 7,
   "metadata": {},
   "outputs": [
    {
     "data": {
      "text/plain": [
       "InvoiceNo         0\n",
       "StockCode         0\n",
       "Description       0\n",
       "Quantity          0\n",
       "InvoiceDate       0\n",
       "UnitPrice         0\n",
       "CustomerID     1418\n",
       "Country           0\n",
       "dtype: int64"
      ]
     },
     "execution_count": 7,
     "metadata": {},
     "output_type": "execute_result"
    }
   ],
   "source": [
    "# nan data \n",
    "df.isnull().sum()"
   ]
  },
  {
   "cell_type": "code",
   "execution_count": 8,
   "metadata": {},
   "outputs": [
    {
     "data": {
      "text/plain": [
       "<matplotlib.axes._subplots.AxesSubplot at 0x114334828>"
      ]
     },
     "execution_count": 8,
     "metadata": {},
     "output_type": "execute_result"
    },
    {
     "data": {
      "image/png": "[encoded data removed]",
      "text/plain": [
       "<matplotlib.figure.Figure at 0x10f07f128>"
      ]
     },
     "metadata": {},
     "output_type": "display_data"
    }
   ],
   "source": [
    "# 고객ID 1400개 정도 nan \n",
    "# 어느 나라에서 주문한 거래에 가장 많이 nan 이 있는지 그래프로 알아봄\n",
    "sns.countplot(y='Country', data=df[df.CustomerID.isnull()].drop_duplicates('InvoiceNo'))"
   ]
  },
  {
   "cell_type": "markdown",
   "metadata": {},
   "source": [
    "아일랜드(EIRE)에서 nan 고객이 가장 많았고 나머지는 여러 나라에 분산 되어 있다. 고객을 분류하는것이므로 고객ID가 없으면 무의미하기 때문에, 아래와 같은 방안을 생각 해 볼 수 있다.\n",
    "1. `dropna()` -> 데이터 손실 \n",
    "2. 주문건1개당 하나의 고객으로 보고 `fillna()` -> 55명이 추가됨 (`df.drop_duplicates('InvoiceNo').isnull().sum().loc['CustomerID']`==55). 현재는 주문건 1540개에 고객이 414명 -> 주문건 1590개에 고객 460개면 대략적인 주문건수 대비 고객수의 비율은 크게 변하지 않는다. \n",
    "\n",
    "문제를 간단히 하기위하여 일단 1번 방식으로 null값을 제거한다."
   ]
  },
  {
   "cell_type": "code",
   "execution_count": 9,
   "metadata": {
    "collapsed": true
   },
   "outputs": [],
   "source": [
    "df = df[df.CustomerID.notnull()]"
   ]
  },
  {
   "cell_type": "code",
   "execution_count": 10,
   "metadata": {
    "scrolled": false
   },
   "outputs": [
    {
     "data": {
      "text/plain": [
       "InvoiceNo        int64\n",
       "StockCode       object\n",
       "Description     object\n",
       "Quantity         int64\n",
       "InvoiceDate     object\n",
       "UnitPrice      float64\n",
       "CustomerID     float64\n",
       "Country         object\n",
       "dtype: object"
      ]
     },
     "execution_count": 10,
     "metadata": {},
     "output_type": "execute_result"
    }
   ],
   "source": [
    "# column data types \n",
    "df.dtypes"
   ]
  },
  {
   "cell_type": "markdown",
   "metadata": {},
   "source": [
    "Turning 'CustomerID' & 'InvoiceDate' into int and datetime, respectively."
   ]
  },
  {
   "cell_type": "code",
   "execution_count": 11,
   "metadata": {},
   "outputs": [],
   "source": [
    "df['CustomerID'] = df.CustomerID.astype(int)\n",
    "df['InvoiceDate'] = pd.to_datetime(df['InvoiceDate'])"
   ]
  },
  {
   "cell_type": "code",
   "execution_count": 12,
   "metadata": {
    "collapsed": true
   },
   "outputs": [],
   "source": [
    "# add sales feature \n",
    "df['Sales'] = df['Quantity'] * df['UnitPrice']"
   ]
  },
  {
   "cell_type": "code",
   "execution_count": 13,
   "metadata": {
    "collapsed": true
   },
   "outputs": [],
   "source": [
    "# save transaction-level data\n",
    "# df.to_csv('transactions.csv', index=None)"
   ]
  },
  {
   "cell_type": "markdown",
   "metadata": {},
   "source": [
    "<a name='2-2'></a>\n",
    "#### 2-2. customer dimension table (customer-level)\n",
    "transaction 데이터를 고객 중심으로 본다면, customer-level 테이블에서 아래와 같은 feature를 만들 수 있다.\n",
    "- 고객별 주문 횟수\n",
    "- 고객별 상품 주문 수, SKU 주문 수\n",
    "- 고객별 매출 총합, 평균\n",
    "- 고객별 basket size 최소, 최대, 평균 "
   ]
  },
  {
   "cell_type": "code",
   "execution_count": 14,
   "metadata": {},
   "outputs": [],
   "source": [
    "# 고객별 주문 횟수 \n",
    "invoice_by_customer = (df.groupby('CustomerID')[['InvoiceNo']]\n",
    "                .nunique()\n",
    "                .rename(columns={'InvoiceNo':'total_txs'}))"
   ]
  },
  {
   "cell_type": "code",
   "execution_count": 15,
   "metadata": {},
   "outputs": [
    {
     "data": {
      "text/html": [
       "<div>\n",
       "<style>\n",
       "    .dataframe thead tr:only-child th {\n",
       "        text-align: right;\n",
       "    }\n",
       "\n",
       "    .dataframe thead th {\n",
       "        text-align: left;\n",
       "    }\n",
       "\n",
       "    .dataframe tbody tr th {\n",
       "        vertical-align: top;\n",
       "    }\n",
       "</style>\n",
       "<table border=\"1\" class=\"dataframe\">\n",
       "  <thead>\n",
       "    <tr style=\"text-align: right;\">\n",
       "      <th></th>\n",
       "      <th>total_txs</th>\n",
       "    </tr>\n",
       "    <tr>\n",
       "      <th>CustomerID</th>\n",
       "      <th></th>\n",
       "    </tr>\n",
       "  </thead>\n",
       "  <tbody>\n",
       "    <tr>\n",
       "      <th>12347</th>\n",
       "      <td>7</td>\n",
       "    </tr>\n",
       "    <tr>\n",
       "      <th>12348</th>\n",
       "      <td>4</td>\n",
       "    </tr>\n",
       "    <tr>\n",
       "      <th>12349</th>\n",
       "      <td>1</td>\n",
       "    </tr>\n",
       "    <tr>\n",
       "      <th>12350</th>\n",
       "      <td>1</td>\n",
       "    </tr>\n",
       "    <tr>\n",
       "      <th>12352</th>\n",
       "      <td>8</td>\n",
       "    </tr>\n",
       "  </tbody>\n",
       "</table>\n",
       "</div>"
      ],
      "text/plain": [
       "            total_txs\n",
       "CustomerID           \n",
       "12347               7\n",
       "12348               4\n",
       "12349               1\n",
       "12350               1\n",
       "12352               8"
      ]
     },
     "execution_count": 15,
     "metadata": {},
     "output_type": "execute_result"
    }
   ],
   "source": [
    "invoice_by_customer.head()"
   ]
  },
  {
   "cell_type": "code",
   "execution_count": 16,
   "metadata": {},
   "outputs": [
    {
     "name": "stderr",
     "output_type": "stream",
     "text": [
      "/usr/local/lib/python3.6/site-packages/ipykernel_launcher.py:4: FutureWarning: using a dict on a Series for aggregation\n",
      "is deprecated and will be removed in a future version\n",
      "  after removing the cwd from sys.path.\n"
     ]
    }
   ],
   "source": [
    "# 고객별 주문 상품수 (전체 주문 상품수 & 주문 SKU순)\n",
    "prod_by_customer = (df.groupby('CustomerID')\n",
    "                   ['StockCode'].agg({'total_skus':'nunique',\n",
    "                                     'total_prods':'count'}))"
   ]
  },
  {
   "cell_type": "code",
   "execution_count": 17,
   "metadata": {},
   "outputs": [
    {
     "data": {
      "text/html": [
       "<div>\n",
       "<style>\n",
       "    .dataframe thead tr:only-child th {\n",
       "        text-align: right;\n",
       "    }\n",
       "\n",
       "    .dataframe thead th {\n",
       "        text-align: left;\n",
       "    }\n",
       "\n",
       "    .dataframe tbody tr th {\n",
       "        vertical-align: top;\n",
       "    }\n",
       "</style>\n",
       "<table border=\"1\" class=\"dataframe\">\n",
       "  <thead>\n",
       "    <tr style=\"text-align: right;\">\n",
       "      <th></th>\n",
       "      <th>total_skus</th>\n",
       "      <th>total_prods</th>\n",
       "    </tr>\n",
       "    <tr>\n",
       "      <th>CustomerID</th>\n",
       "      <th></th>\n",
       "      <th></th>\n",
       "    </tr>\n",
       "  </thead>\n",
       "  <tbody>\n",
       "    <tr>\n",
       "      <th>12347</th>\n",
       "      <td>103</td>\n",
       "      <td>182</td>\n",
       "    </tr>\n",
       "    <tr>\n",
       "      <th>12348</th>\n",
       "      <td>22</td>\n",
       "      <td>31</td>\n",
       "    </tr>\n",
       "    <tr>\n",
       "      <th>12349</th>\n",
       "      <td>73</td>\n",
       "      <td>73</td>\n",
       "    </tr>\n",
       "    <tr>\n",
       "      <th>12350</th>\n",
       "      <td>17</td>\n",
       "      <td>17</td>\n",
       "    </tr>\n",
       "    <tr>\n",
       "      <th>12352</th>\n",
       "      <td>59</td>\n",
       "      <td>85</td>\n",
       "    </tr>\n",
       "  </tbody>\n",
       "</table>\n",
       "</div>"
      ],
      "text/plain": [
       "            total_skus  total_prods\n",
       "CustomerID                         \n",
       "12347              103          182\n",
       "12348               22           31\n",
       "12349               73           73\n",
       "12350               17           17\n",
       "12352               59           85"
      ]
     },
     "execution_count": 17,
     "metadata": {},
     "output_type": "execute_result"
    }
   ],
   "source": [
    "prod_by_customer.head()"
   ]
  },
  {
   "cell_type": "code",
   "execution_count": 18,
   "metadata": {},
   "outputs": [
    {
     "name": "stderr",
     "output_type": "stream",
     "text": [
      "/usr/local/lib/python3.6/site-packages/ipykernel_launcher.py:4: FutureWarning: using a dict on a Series for aggregation\n",
      "is deprecated and will be removed in a future version\n",
      "  after removing the cwd from sys.path.\n"
     ]
    }
   ],
   "source": [
    "# 고객별 매출 \n",
    "sales_by_customer = (df.groupby('CustomerID')['Sales']\n",
    "                    .agg({'total_sales': 'sum', \n",
    "                         'avg_prod_value': 'mean'}))"
   ]
  },
  {
   "cell_type": "code",
   "execution_count": 19,
   "metadata": {},
   "outputs": [
    {
     "data": {
      "text/html": [
       "<div>\n",
       "<style>\n",
       "    .dataframe thead tr:only-child th {\n",
       "        text-align: right;\n",
       "    }\n",
       "\n",
       "    .dataframe thead th {\n",
       "        text-align: left;\n",
       "    }\n",
       "\n",
       "    .dataframe tbody tr th {\n",
       "        vertical-align: top;\n",
       "    }\n",
       "</style>\n",
       "<table border=\"1\" class=\"dataframe\">\n",
       "  <thead>\n",
       "    <tr style=\"text-align: right;\">\n",
       "      <th></th>\n",
       "      <th>total_sales</th>\n",
       "      <th>avg_prod_value</th>\n",
       "    </tr>\n",
       "    <tr>\n",
       "      <th>CustomerID</th>\n",
       "      <th></th>\n",
       "      <th></th>\n",
       "    </tr>\n",
       "  </thead>\n",
       "  <tbody>\n",
       "    <tr>\n",
       "      <th>12347</th>\n",
       "      <td>4310.00</td>\n",
       "      <td>23.681319</td>\n",
       "    </tr>\n",
       "    <tr>\n",
       "      <th>12348</th>\n",
       "      <td>1797.24</td>\n",
       "      <td>57.975484</td>\n",
       "    </tr>\n",
       "    <tr>\n",
       "      <th>12349</th>\n",
       "      <td>1757.55</td>\n",
       "      <td>24.076027</td>\n",
       "    </tr>\n",
       "    <tr>\n",
       "      <th>12350</th>\n",
       "      <td>334.40</td>\n",
       "      <td>19.670588</td>\n",
       "    </tr>\n",
       "    <tr>\n",
       "      <th>12352</th>\n",
       "      <td>2506.04</td>\n",
       "      <td>29.482824</td>\n",
       "    </tr>\n",
       "  </tbody>\n",
       "</table>\n",
       "</div>"
      ],
      "text/plain": [
       "            total_sales  avg_prod_value\n",
       "CustomerID                             \n",
       "12347           4310.00       23.681319\n",
       "12348           1797.24       57.975484\n",
       "12349           1757.55       24.076027\n",
       "12350            334.40       19.670588\n",
       "12352           2506.04       29.482824"
      ]
     },
     "execution_count": 19,
     "metadata": {},
     "output_type": "execute_result"
    }
   ],
   "source": [
    "sales_by_customer.head()"
   ]
  },
  {
   "cell_type": "code",
   "execution_count": 20,
   "metadata": {
    "collapsed": true
   },
   "outputs": [],
   "source": [
    "# 고객별 basket size (한번 주문할때 그 금액)\n",
    "bs_df = (df.groupby(['CustomerID', 'InvoiceNo'])[['Sales']]\n",
    "                 .sum().rename(columns={'Sales':'basket_size'}))\n",
    "bs_df.reset_index(inplace=True)"
   ]
  },
  {
   "cell_type": "code",
   "execution_count": 21,
   "metadata": {},
   "outputs": [
    {
     "data": {
      "text/html": [
       "<div>\n",
       "<style>\n",
       "    .dataframe thead tr:only-child th {\n",
       "        text-align: right;\n",
       "    }\n",
       "\n",
       "    .dataframe thead th {\n",
       "        text-align: left;\n",
       "    }\n",
       "\n",
       "    .dataframe tbody tr th {\n",
       "        vertical-align: top;\n",
       "    }\n",
       "</style>\n",
       "<table border=\"1\" class=\"dataframe\">\n",
       "  <thead>\n",
       "    <tr style=\"text-align: right;\">\n",
       "      <th></th>\n",
       "      <th>CustomerID</th>\n",
       "      <th>InvoiceNo</th>\n",
       "      <th>basket_size</th>\n",
       "    </tr>\n",
       "  </thead>\n",
       "  <tbody>\n",
       "    <tr>\n",
       "      <th>0</th>\n",
       "      <td>12347</td>\n",
       "      <td>537626</td>\n",
       "      <td>711.79</td>\n",
       "    </tr>\n",
       "    <tr>\n",
       "      <th>1</th>\n",
       "      <td>12347</td>\n",
       "      <td>542237</td>\n",
       "      <td>475.39</td>\n",
       "    </tr>\n",
       "    <tr>\n",
       "      <th>2</th>\n",
       "      <td>12347</td>\n",
       "      <td>549222</td>\n",
       "      <td>636.25</td>\n",
       "    </tr>\n",
       "    <tr>\n",
       "      <th>3</th>\n",
       "      <td>12347</td>\n",
       "      <td>556201</td>\n",
       "      <td>382.52</td>\n",
       "    </tr>\n",
       "    <tr>\n",
       "      <th>4</th>\n",
       "      <td>12347</td>\n",
       "      <td>562032</td>\n",
       "      <td>584.91</td>\n",
       "    </tr>\n",
       "  </tbody>\n",
       "</table>\n",
       "</div>"
      ],
      "text/plain": [
       "   CustomerID  InvoiceNo  basket_size\n",
       "0       12347     537626       711.79\n",
       "1       12347     542237       475.39\n",
       "2       12347     549222       636.25\n",
       "3       12347     556201       382.52\n",
       "4       12347     562032       584.91"
      ]
     },
     "execution_count": 21,
     "metadata": {},
     "output_type": "execute_result"
    }
   ],
   "source": [
    "bs_df.head()"
   ]
  },
  {
   "cell_type": "code",
   "execution_count": 22,
   "metadata": {},
   "outputs": [
    {
     "name": "stderr",
     "output_type": "stream",
     "text": [
      "/usr/local/lib/python3.6/site-packages/ipykernel_launcher.py:4: FutureWarning: using a dict on a Series for aggregation\n",
      "is deprecated and will be removed in a future version\n",
      "  after removing the cwd from sys.path.\n"
     ]
    }
   ],
   "source": [
    "bs_by_customer = (bs_df.groupby('CustomerID')['basket_size']\n",
    "                  .agg({'avg_bs':np.average,\n",
    "                       'min_bs': np.min,\n",
    "                       'max_bs': np.max}))"
   ]
  },
  {
   "cell_type": "code",
   "execution_count": 23,
   "metadata": {},
   "outputs": [],
   "source": [
    "# customer dimension dataframe \n",
    "# 고객별 주문 횟수 + 매출 + basket size \n",
    "customer_dim_df = invoice_by_customer.join([prod_by_customer, \n",
    "                                           sales_by_customer, \n",
    "                                           bs_by_customer])"
   ]
  },
  {
   "cell_type": "markdown",
   "metadata": {},
   "source": [
    "fact table (transaction-level)에서 customer dimension table로 변형"
   ]
  },
  {
   "cell_type": "code",
   "execution_count": 24,
   "metadata": {},
   "outputs": [
    {
     "data": {
      "text/html": [
       "<div>\n",
       "<style>\n",
       "    .dataframe thead tr:only-child th {\n",
       "        text-align: right;\n",
       "    }\n",
       "\n",
       "    .dataframe thead th {\n",
       "        text-align: left;\n",
       "    }\n",
       "\n",
       "    .dataframe tbody tr th {\n",
       "        vertical-align: top;\n",
       "    }\n",
       "</style>\n",
       "<table border=\"1\" class=\"dataframe\">\n",
       "  <thead>\n",
       "    <tr style=\"text-align: right;\">\n",
       "      <th></th>\n",
       "      <th>total_txs</th>\n",
       "      <th>total_skus</th>\n",
       "      <th>total_prods</th>\n",
       "      <th>total_sales</th>\n",
       "      <th>avg_prod_value</th>\n",
       "      <th>avg_bs</th>\n",
       "      <th>min_bs</th>\n",
       "      <th>max_bs</th>\n",
       "    </tr>\n",
       "    <tr>\n",
       "      <th>CustomerID</th>\n",
       "      <th></th>\n",
       "      <th></th>\n",
       "      <th></th>\n",
       "      <th></th>\n",
       "      <th></th>\n",
       "      <th></th>\n",
       "      <th></th>\n",
       "      <th></th>\n",
       "    </tr>\n",
       "  </thead>\n",
       "  <tbody>\n",
       "    <tr>\n",
       "      <th>12347</th>\n",
       "      <td>7</td>\n",
       "      <td>103</td>\n",
       "      <td>182</td>\n",
       "      <td>4310.00</td>\n",
       "      <td>23.681319</td>\n",
       "      <td>615.714286</td>\n",
       "      <td>224.82</td>\n",
       "      <td>1294.32</td>\n",
       "    </tr>\n",
       "    <tr>\n",
       "      <th>12348</th>\n",
       "      <td>4</td>\n",
       "      <td>22</td>\n",
       "      <td>31</td>\n",
       "      <td>1797.24</td>\n",
       "      <td>57.975484</td>\n",
       "      <td>449.310000</td>\n",
       "      <td>227.44</td>\n",
       "      <td>892.80</td>\n",
       "    </tr>\n",
       "    <tr>\n",
       "      <th>12349</th>\n",
       "      <td>1</td>\n",
       "      <td>73</td>\n",
       "      <td>73</td>\n",
       "      <td>1757.55</td>\n",
       "      <td>24.076027</td>\n",
       "      <td>1757.550000</td>\n",
       "      <td>1757.55</td>\n",
       "      <td>1757.55</td>\n",
       "    </tr>\n",
       "    <tr>\n",
       "      <th>12350</th>\n",
       "      <td>1</td>\n",
       "      <td>17</td>\n",
       "      <td>17</td>\n",
       "      <td>334.40</td>\n",
       "      <td>19.670588</td>\n",
       "      <td>334.400000</td>\n",
       "      <td>334.40</td>\n",
       "      <td>334.40</td>\n",
       "    </tr>\n",
       "    <tr>\n",
       "      <th>12352</th>\n",
       "      <td>8</td>\n",
       "      <td>59</td>\n",
       "      <td>85</td>\n",
       "      <td>2506.04</td>\n",
       "      <td>29.482824</td>\n",
       "      <td>313.255000</td>\n",
       "      <td>120.33</td>\n",
       "      <td>840.30</td>\n",
       "    </tr>\n",
       "  </tbody>\n",
       "</table>\n",
       "</div>"
      ],
      "text/plain": [
       "            total_txs  total_skus  total_prods  total_sales  avg_prod_value  \\\n",
       "CustomerID                                                                    \n",
       "12347               7         103          182      4310.00       23.681319   \n",
       "12348               4          22           31      1797.24       57.975484   \n",
       "12349               1          73           73      1757.55       24.076027   \n",
       "12350               1          17           17       334.40       19.670588   \n",
       "12352               8          59           85      2506.04       29.482824   \n",
       "\n",
       "                 avg_bs   min_bs   max_bs  \n",
       "CustomerID                                 \n",
       "12347        615.714286   224.82  1294.32  \n",
       "12348        449.310000   227.44   892.80  \n",
       "12349       1757.550000  1757.55  1757.55  \n",
       "12350        334.400000   334.40   334.40  \n",
       "12352        313.255000   120.33   840.30  "
      ]
     },
     "execution_count": 24,
     "metadata": {},
     "output_type": "execute_result"
    }
   ],
   "source": [
    "# customer-level table \n",
    "customer_dim_df.head()"
   ]
  },
  {
   "cell_type": "code",
   "execution_count": 25,
   "metadata": {},
   "outputs": [
    {
     "data": {
      "text/plain": [
       "(414, 8)"
      ]
     },
     "execution_count": 25,
     "metadata": {},
     "output_type": "execute_result"
    }
   ],
   "source": [
    "# customer-level table dimension\n",
    "customer_dim_df.shape"
   ]
  },
  {
   "cell_type": "markdown",
   "metadata": {},
   "source": [
    "<a name='3'></a>\n",
    "#### 3. Dimension Reduction using PCA\n",
    "\n",
    "[2-2. Customer Dimension Table](#2-2)에서 customer-level에 일반적으로 고객을 평가 할 수 있는 feature를 만들었다. 이에 더해 고객들이 어떤 상품을 샀는지를 바탕으로 cluster하기 위해서, 우선 상품 하나하나가 column이 되도록 one-hot encoding을 한다. 상품이 2600개 정도 되기 때문에 `PCA()`를 이용해서, total variance를  잘 설명할 수 있는 주 성분만 뽑는다 -> 차원 축소.\n",
    "- 상품에 대해 one-hot encoding\n",
    "- `StandardScaler()`로 feature value 스케일 조정\n",
    "- `PCA()`로 explained variance가 높은 feature만 뽑아옴 "
   ]
  },
  {
   "cell_type": "code",
   "execution_count": 26,
   "metadata": {},
   "outputs": [],
   "source": [
    "# Get dataset one hot encoded by 'StockCode'\n",
    "items_one_hot = pd.get_dummies(df.StockCode)\n",
    "items_one_hot['CustomerID'] = df['CustomerID']\n",
    "\n",
    "# Group transaction-level data by 'CustomerID'\n",
    "items_one_hot = items_one_hot.groupby('CustomerID').sum()"
   ]
  },
  {
   "cell_type": "code",
   "execution_count": 27,
   "metadata": {},
   "outputs": [
    {
     "data": {
      "text/html": [
       "<div>\n",
       "<style>\n",
       "    .dataframe thead tr:only-child th {\n",
       "        text-align: right;\n",
       "    }\n",
       "\n",
       "    .dataframe thead th {\n",
       "        text-align: left;\n",
       "    }\n",
       "\n",
       "    .dataframe tbody tr th {\n",
       "        vertical-align: top;\n",
       "    }\n",
       "</style>\n",
       "<table border=\"1\" class=\"dataframe\">\n",
       "  <thead>\n",
       "    <tr style=\"text-align: right;\">\n",
       "      <th></th>\n",
       "      <th>10002</th>\n",
       "      <th>10120</th>\n",
       "      <th>10125</th>\n",
       "      <th>10133</th>\n",
       "      <th>10135</th>\n",
       "      <th>11001</th>\n",
       "      <th>15034</th>\n",
       "      <th>15036</th>\n",
       "      <th>15039</th>\n",
       "      <th>15044A</th>\n",
       "      <th>...</th>\n",
       "      <th>90192</th>\n",
       "      <th>90201A</th>\n",
       "      <th>90201B</th>\n",
       "      <th>90201C</th>\n",
       "      <th>90201D</th>\n",
       "      <th>90202D</th>\n",
       "      <th>90204</th>\n",
       "      <th>C2</th>\n",
       "      <th>M</th>\n",
       "      <th>POST</th>\n",
       "    </tr>\n",
       "    <tr>\n",
       "      <th>CustomerID</th>\n",
       "      <th></th>\n",
       "      <th></th>\n",
       "      <th></th>\n",
       "      <th></th>\n",
       "      <th></th>\n",
       "      <th></th>\n",
       "      <th></th>\n",
       "      <th></th>\n",
       "      <th></th>\n",
       "      <th></th>\n",
       "      <th></th>\n",
       "      <th></th>\n",
       "      <th></th>\n",
       "      <th></th>\n",
       "      <th></th>\n",
       "      <th></th>\n",
       "      <th></th>\n",
       "      <th></th>\n",
       "      <th></th>\n",
       "      <th></th>\n",
       "      <th></th>\n",
       "    </tr>\n",
       "  </thead>\n",
       "  <tbody>\n",
       "    <tr>\n",
       "      <th>12347</th>\n",
       "      <td>0</td>\n",
       "      <td>0</td>\n",
       "      <td>0</td>\n",
       "      <td>0</td>\n",
       "      <td>0</td>\n",
       "      <td>0</td>\n",
       "      <td>0</td>\n",
       "      <td>0</td>\n",
       "      <td>0</td>\n",
       "      <td>0</td>\n",
       "      <td>...</td>\n",
       "      <td>0</td>\n",
       "      <td>0</td>\n",
       "      <td>0</td>\n",
       "      <td>0</td>\n",
       "      <td>0</td>\n",
       "      <td>0</td>\n",
       "      <td>0</td>\n",
       "      <td>0</td>\n",
       "      <td>0</td>\n",
       "      <td>0</td>\n",
       "    </tr>\n",
       "    <tr>\n",
       "      <th>12348</th>\n",
       "      <td>0</td>\n",
       "      <td>0</td>\n",
       "      <td>0</td>\n",
       "      <td>0</td>\n",
       "      <td>0</td>\n",
       "      <td>0</td>\n",
       "      <td>0</td>\n",
       "      <td>0</td>\n",
       "      <td>0</td>\n",
       "      <td>0</td>\n",
       "      <td>...</td>\n",
       "      <td>0</td>\n",
       "      <td>0</td>\n",
       "      <td>0</td>\n",
       "      <td>0</td>\n",
       "      <td>0</td>\n",
       "      <td>0</td>\n",
       "      <td>0</td>\n",
       "      <td>0</td>\n",
       "      <td>0</td>\n",
       "      <td>4</td>\n",
       "    </tr>\n",
       "    <tr>\n",
       "      <th>12349</th>\n",
       "      <td>0</td>\n",
       "      <td>0</td>\n",
       "      <td>0</td>\n",
       "      <td>0</td>\n",
       "      <td>0</td>\n",
       "      <td>0</td>\n",
       "      <td>0</td>\n",
       "      <td>0</td>\n",
       "      <td>0</td>\n",
       "      <td>0</td>\n",
       "      <td>...</td>\n",
       "      <td>0</td>\n",
       "      <td>0</td>\n",
       "      <td>0</td>\n",
       "      <td>0</td>\n",
       "      <td>0</td>\n",
       "      <td>0</td>\n",
       "      <td>0</td>\n",
       "      <td>0</td>\n",
       "      <td>0</td>\n",
       "      <td>1</td>\n",
       "    </tr>\n",
       "    <tr>\n",
       "      <th>12350</th>\n",
       "      <td>0</td>\n",
       "      <td>0</td>\n",
       "      <td>0</td>\n",
       "      <td>0</td>\n",
       "      <td>0</td>\n",
       "      <td>0</td>\n",
       "      <td>0</td>\n",
       "      <td>0</td>\n",
       "      <td>0</td>\n",
       "      <td>0</td>\n",
       "      <td>...</td>\n",
       "      <td>0</td>\n",
       "      <td>0</td>\n",
       "      <td>0</td>\n",
       "      <td>0</td>\n",
       "      <td>0</td>\n",
       "      <td>0</td>\n",
       "      <td>0</td>\n",
       "      <td>0</td>\n",
       "      <td>0</td>\n",
       "      <td>1</td>\n",
       "    </tr>\n",
       "    <tr>\n",
       "      <th>12352</th>\n",
       "      <td>0</td>\n",
       "      <td>0</td>\n",
       "      <td>0</td>\n",
       "      <td>0</td>\n",
       "      <td>0</td>\n",
       "      <td>0</td>\n",
       "      <td>0</td>\n",
       "      <td>0</td>\n",
       "      <td>0</td>\n",
       "      <td>0</td>\n",
       "      <td>...</td>\n",
       "      <td>0</td>\n",
       "      <td>0</td>\n",
       "      <td>0</td>\n",
       "      <td>0</td>\n",
       "      <td>0</td>\n",
       "      <td>0</td>\n",
       "      <td>0</td>\n",
       "      <td>0</td>\n",
       "      <td>3</td>\n",
       "      <td>5</td>\n",
       "    </tr>\n",
       "  </tbody>\n",
       "</table>\n",
       "<p>5 rows × 2574 columns</p>\n",
       "</div>"
      ],
      "text/plain": [
       "            10002  10120  10125  10133  10135  11001  15034  15036  15039  \\\n",
       "CustomerID                                                                  \n",
       "12347           0      0      0      0      0      0      0      0      0   \n",
       "12348           0      0      0      0      0      0      0      0      0   \n",
       "12349           0      0      0      0      0      0      0      0      0   \n",
       "12350           0      0      0      0      0      0      0      0      0   \n",
       "12352           0      0      0      0      0      0      0      0      0   \n",
       "\n",
       "            15044A  ...   90192  90201A  90201B  90201C  90201D  90202D  \\\n",
       "CustomerID          ...                                                   \n",
       "12347            0  ...       0       0       0       0       0       0   \n",
       "12348            0  ...       0       0       0       0       0       0   \n",
       "12349            0  ...       0       0       0       0       0       0   \n",
       "12350            0  ...       0       0       0       0       0       0   \n",
       "12352            0  ...       0       0       0       0       0       0   \n",
       "\n",
       "            90204  C2  M  POST  \n",
       "CustomerID                      \n",
       "12347           0   0  0     0  \n",
       "12348           0   0  0     4  \n",
       "12349           0   0  0     1  \n",
       "12350           0   0  0     1  \n",
       "12352           0   0  3     5  \n",
       "\n",
       "[5 rows x 2574 columns]"
      ]
     },
     "execution_count": 27,
     "metadata": {},
     "output_type": "execute_result"
    }
   ],
   "source": [
    "items_one_hot.head()"
   ]
  },
  {
   "cell_type": "code",
   "execution_count": 28,
   "metadata": {},
   "outputs": [
    {
     "data": {
      "text/plain": [
       "(414, 2574)"
      ]
     },
     "execution_count": 28,
     "metadata": {},
     "output_type": "execute_result"
    }
   ],
   "source": [
    "# item_one_hot table dimension \n",
    "items_one_hot.shape"
   ]
  },
  {
   "cell_type": "code",
   "execution_count": 29,
   "metadata": {
    "collapsed": true
   },
   "outputs": [],
   "source": [
    "from sklearn.preprocessing import StandardScaler\n",
    "from sklearn.decomposition import PCA"
   ]
  },
  {
   "cell_type": "code",
   "execution_count": 30,
   "metadata": {},
   "outputs": [],
   "source": [
    "# StandardScaler instance initialization\n",
    "scaler = StandardScaler()\n",
    "items_one_hot_scaled = scaler.fit_transform(items_one_hot)"
   ]
  },
  {
   "cell_type": "code",
   "execution_count": 31,
   "metadata": {},
   "outputs": [
    {
     "data": {
      "text/plain": [
       "PCA(copy=True, iterated_power='auto', n_components=None, random_state=None,\n",
       "  svd_solver='auto', tol=0.0, whiten=False)"
      ]
     },
     "execution_count": 31,
     "metadata": {},
     "output_type": "execute_result"
    }
   ],
   "source": [
    "# PCA instance initialization\n",
    "pca  = PCA()\n",
    "pca.fit(items_one_hot_scaled)"
   ]
  },
  {
   "cell_type": "markdown",
   "metadata": {},
   "source": [
    "별도의 parameter를 넣지 않았을때, `n_components` = min(# features, # samples)이므로 414개의 components가 새로 생성"
   ]
  },
  {
   "cell_type": "code",
   "execution_count": 32,
   "metadata": {},
   "outputs": [],
   "source": [
    "# Generate new features to replace StockCode features \n",
    "new_features = pca.transform(items_one_hot_scaled)"
   ]
  },
  {
   "cell_type": "code",
   "execution_count": 33,
   "metadata": {
    "collapsed": true
   },
   "outputs": [],
   "source": [
    "# Cumulative sum of explained variance of each feature \n",
    "cumsum_explained_var = np.cumsum(pca.explained_variance_ratio_)"
   ]
  },
  {
   "cell_type": "code",
   "execution_count": 34,
   "metadata": {},
   "outputs": [
    {
     "data": {
      "text/plain": [
       "[<matplotlib.lines.Line2D at 0x115e57588>]"
      ]
     },
     "execution_count": 34,
     "metadata": {},
     "output_type": "execute_result"
    },
    {
     "data": {
      "image/png": "[encoded data removed]",
      "text/plain": [
       "<matplotlib.figure.Figure at 0x11b418c18>"
      ]
     },
     "metadata": {},
     "output_type": "display_data"
    }
   ],
   "source": [
    "plt.plot(range(len(cumsum_explained_var)), cumsum_explained_var)"
   ]
  },
  {
   "cell_type": "markdown",
   "metadata": {},
   "source": [
    "- 위의 그래프를 보면 알 수 있듯이 `n_components`가 200일때, `cumsum_explained_var`가 90%정도 됨\n",
    "- 200개의 components만 생성하도록 다시 PCA instance를 만들 수 있다"
   ]
  },
  {
   "cell_type": "code",
   "execution_count": 35,
   "metadata": {},
   "outputs": [
    {
     "data": {
      "text/plain": [
       "0.91544629459845894"
      ]
     },
     "execution_count": 35,
     "metadata": {},
     "output_type": "execute_result"
    }
   ],
   "source": [
    "# 200 components can capture 90% of the total variances\n",
    "cumsum_explained_var[200]"
   ]
  },
  {
   "cell_type": "code",
   "execution_count": 36,
   "metadata": {},
   "outputs": [],
   "source": [
    "# PCA instance initialization\n",
    "pca = PCA(n_components=200)\n",
    "# fit & transform altogether \n",
    "new_features = pca.fit_transform(items_one_hot_scaled)"
   ]
  },
  {
   "cell_type": "code",
   "execution_count": 37,
   "metadata": {},
   "outputs": [
    {
     "data": {
      "text/plain": [
       "(414, 200)"
      ]
     },
     "execution_count": 37,
     "metadata": {},
     "output_type": "execute_result"
    }
   ],
   "source": [
    "new_features.shape"
   ]
  },
  {
   "cell_type": "code",
   "execution_count": 38,
   "metadata": {},
   "outputs": [],
   "source": [
    "# Make dataframe out of new components \n",
    "new_features_df = pd.DataFrame(new_features)\n",
    "new_features_df.index = items_one_hot.index\n",
    "new_features_df.columns = ['feature_{}'.format(i+1) for i in range(new_features.shape[1])]"
   ]
  },
  {
   "cell_type": "code",
   "execution_count": 39,
   "metadata": {},
   "outputs": [
    {
     "data": {
      "text/html": [
       "<div>\n",
       "<style>\n",
       "    .dataframe thead tr:only-child th {\n",
       "        text-align: right;\n",
       "    }\n",
       "\n",
       "    .dataframe thead th {\n",
       "        text-align: left;\n",
       "    }\n",
       "\n",
       "    .dataframe tbody tr th {\n",
       "        vertical-align: top;\n",
       "    }\n",
       "</style>\n",
       "<table border=\"1\" class=\"dataframe\">\n",
       "  <thead>\n",
       "    <tr style=\"text-align: right;\">\n",
       "      <th></th>\n",
       "      <th>feature_1</th>\n",
       "      <th>feature_2</th>\n",
       "      <th>feature_3</th>\n",
       "      <th>feature_4</th>\n",
       "      <th>feature_5</th>\n",
       "      <th>feature_6</th>\n",
       "      <th>feature_7</th>\n",
       "      <th>feature_8</th>\n",
       "      <th>feature_9</th>\n",
       "      <th>feature_10</th>\n",
       "      <th>...</th>\n",
       "      <th>feature_191</th>\n",
       "      <th>feature_192</th>\n",
       "      <th>feature_193</th>\n",
       "      <th>feature_194</th>\n",
       "      <th>feature_195</th>\n",
       "      <th>feature_196</th>\n",
       "      <th>feature_197</th>\n",
       "      <th>feature_198</th>\n",
       "      <th>feature_199</th>\n",
       "      <th>feature_200</th>\n",
       "    </tr>\n",
       "    <tr>\n",
       "      <th>CustomerID</th>\n",
       "      <th></th>\n",
       "      <th></th>\n",
       "      <th></th>\n",
       "      <th></th>\n",
       "      <th></th>\n",
       "      <th></th>\n",
       "      <th></th>\n",
       "      <th></th>\n",
       "      <th></th>\n",
       "      <th></th>\n",
       "      <th></th>\n",
       "      <th></th>\n",
       "      <th></th>\n",
       "      <th></th>\n",
       "      <th></th>\n",
       "      <th></th>\n",
       "      <th></th>\n",
       "      <th></th>\n",
       "      <th></th>\n",
       "      <th></th>\n",
       "      <th></th>\n",
       "    </tr>\n",
       "  </thead>\n",
       "  <tbody>\n",
       "    <tr>\n",
       "      <th>12347</th>\n",
       "      <td>5.876140</td>\n",
       "      <td>4.828917</td>\n",
       "      <td>-0.495545</td>\n",
       "      <td>3.093849</td>\n",
       "      <td>-0.633704</td>\n",
       "      <td>-11.534092</td>\n",
       "      <td>2.161997</td>\n",
       "      <td>7.116957</td>\n",
       "      <td>5.336007</td>\n",
       "      <td>4.424415</td>\n",
       "      <td>...</td>\n",
       "      <td>-0.054708</td>\n",
       "      <td>-0.078772</td>\n",
       "      <td>0.220371</td>\n",
       "      <td>-0.041625</td>\n",
       "      <td>0.100796</td>\n",
       "      <td>-0.174757</td>\n",
       "      <td>-0.031808</td>\n",
       "      <td>0.185542</td>\n",
       "      <td>0.009526</td>\n",
       "      <td>0.207429</td>\n",
       "    </tr>\n",
       "    <tr>\n",
       "      <th>12348</th>\n",
       "      <td>-4.219837</td>\n",
       "      <td>1.226226</td>\n",
       "      <td>-1.881913</td>\n",
       "      <td>-0.174343</td>\n",
       "      <td>0.817979</td>\n",
       "      <td>1.160844</td>\n",
       "      <td>-0.871708</td>\n",
       "      <td>-0.846630</td>\n",
       "      <td>0.460245</td>\n",
       "      <td>0.854235</td>\n",
       "      <td>...</td>\n",
       "      <td>-0.938278</td>\n",
       "      <td>-2.051579</td>\n",
       "      <td>-1.078936</td>\n",
       "      <td>2.150264</td>\n",
       "      <td>-2.208037</td>\n",
       "      <td>-3.314108</td>\n",
       "      <td>1.412333</td>\n",
       "      <td>-2.711985</td>\n",
       "      <td>-4.416558</td>\n",
       "      <td>-4.514242</td>\n",
       "    </tr>\n",
       "    <tr>\n",
       "      <th>12349</th>\n",
       "      <td>-1.260847</td>\n",
       "      <td>2.387668</td>\n",
       "      <td>-0.073134</td>\n",
       "      <td>-1.119173</td>\n",
       "      <td>-0.034323</td>\n",
       "      <td>-3.715386</td>\n",
       "      <td>-0.343590</td>\n",
       "      <td>-0.149020</td>\n",
       "      <td>-0.789969</td>\n",
       "      <td>-0.379284</td>\n",
       "      <td>...</td>\n",
       "      <td>-3.183575</td>\n",
       "      <td>1.299916</td>\n",
       "      <td>-2.975303</td>\n",
       "      <td>3.029313</td>\n",
       "      <td>1.060271</td>\n",
       "      <td>3.537821</td>\n",
       "      <td>-2.549542</td>\n",
       "      <td>-0.571411</td>\n",
       "      <td>-3.363025</td>\n",
       "      <td>-1.627964</td>\n",
       "    </tr>\n",
       "    <tr>\n",
       "      <th>12350</th>\n",
       "      <td>-4.929320</td>\n",
       "      <td>-0.714858</td>\n",
       "      <td>-1.580932</td>\n",
       "      <td>-0.469772</td>\n",
       "      <td>-0.116289</td>\n",
       "      <td>0.647837</td>\n",
       "      <td>0.112910</td>\n",
       "      <td>-1.336325</td>\n",
       "      <td>1.547060</td>\n",
       "      <td>-1.190387</td>\n",
       "      <td>...</td>\n",
       "      <td>-2.951711</td>\n",
       "      <td>0.442039</td>\n",
       "      <td>-1.501844</td>\n",
       "      <td>-0.765812</td>\n",
       "      <td>-0.064748</td>\n",
       "      <td>-1.436384</td>\n",
       "      <td>1.267713</td>\n",
       "      <td>-0.814686</td>\n",
       "      <td>1.683467</td>\n",
       "      <td>1.082198</td>\n",
       "    </tr>\n",
       "    <tr>\n",
       "      <th>12352</th>\n",
       "      <td>-2.053113</td>\n",
       "      <td>2.110951</td>\n",
       "      <td>0.184804</td>\n",
       "      <td>0.128246</td>\n",
       "      <td>0.087787</td>\n",
       "      <td>-1.943584</td>\n",
       "      <td>2.383305</td>\n",
       "      <td>0.899598</td>\n",
       "      <td>-0.672002</td>\n",
       "      <td>0.081476</td>\n",
       "      <td>...</td>\n",
       "      <td>-2.631139</td>\n",
       "      <td>-0.778333</td>\n",
       "      <td>2.246837</td>\n",
       "      <td>1.161286</td>\n",
       "      <td>-1.584022</td>\n",
       "      <td>0.724579</td>\n",
       "      <td>-0.422738</td>\n",
       "      <td>0.682334</td>\n",
       "      <td>-0.028058</td>\n",
       "      <td>-1.469663</td>\n",
       "    </tr>\n",
       "  </tbody>\n",
       "</table>\n",
       "<p>5 rows × 200 columns</p>\n",
       "</div>"
      ],
      "text/plain": [
       "            feature_1  feature_2  feature_3  feature_4  feature_5  feature_6  \\\n",
       "CustomerID                                                                     \n",
       "12347        5.876140   4.828917  -0.495545   3.093849  -0.633704 -11.534092   \n",
       "12348       -4.219837   1.226226  -1.881913  -0.174343   0.817979   1.160844   \n",
       "12349       -1.260847   2.387668  -0.073134  -1.119173  -0.034323  -3.715386   \n",
       "12350       -4.929320  -0.714858  -1.580932  -0.469772  -0.116289   0.647837   \n",
       "12352       -2.053113   2.110951   0.184804   0.128246   0.087787  -1.943584   \n",
       "\n",
       "            feature_7  feature_8  feature_9  feature_10     ...       \\\n",
       "CustomerID                                                  ...        \n",
       "12347        2.161997   7.116957   5.336007    4.424415     ...        \n",
       "12348       -0.871708  -0.846630   0.460245    0.854235     ...        \n",
       "12349       -0.343590  -0.149020  -0.789969   -0.379284     ...        \n",
       "12350        0.112910  -1.336325   1.547060   -1.190387     ...        \n",
       "12352        2.383305   0.899598  -0.672002    0.081476     ...        \n",
       "\n",
       "            feature_191  feature_192  feature_193  feature_194  feature_195  \\\n",
       "CustomerID                                                                    \n",
       "12347         -0.054708    -0.078772     0.220371    -0.041625     0.100796   \n",
       "12348         -0.938278    -2.051579    -1.078936     2.150264    -2.208037   \n",
       "12349         -3.183575     1.299916    -2.975303     3.029313     1.060271   \n",
       "12350         -2.951711     0.442039    -1.501844    -0.765812    -0.064748   \n",
       "12352         -2.631139    -0.778333     2.246837     1.161286    -1.584022   \n",
       "\n",
       "            feature_196  feature_197  feature_198  feature_199  feature_200  \n",
       "CustomerID                                                                   \n",
       "12347         -0.174757    -0.031808     0.185542     0.009526     0.207429  \n",
       "12348         -3.314108     1.412333    -2.711985    -4.416558    -4.514242  \n",
       "12349          3.537821    -2.549542    -0.571411    -3.363025    -1.627964  \n",
       "12350         -1.436384     1.267713    -0.814686     1.683467     1.082198  \n",
       "12352          0.724579    -0.422738     0.682334    -0.028058    -1.469663  \n",
       "\n",
       "[5 rows x 200 columns]"
      ]
     },
     "execution_count": 39,
     "metadata": {},
     "output_type": "execute_result"
    }
   ],
   "source": [
    "new_features_df.head()"
   ]
  },
  {
   "cell_type": "markdown",
   "metadata": {},
   "source": [
    "<a name='4'></a>\n",
    "#### 4. Cluster Analysis \n",
    "cluster analysis를 수행 할 때, 앞서 만든 dataset두가지를 넣어 볼 수 있다.\n",
    "- 1. `customer_dim_df`\n",
    "- 2. `customer_dim_df`+`new_features`\n",
    "\n",
    "clustering의 경우 unsupervised learning으로 알고리즘의 performance를 측정할 metric이 정의되어있지 않기 때문에, 서로 다른 데이터셋이나 알고리즘으로 나온 cluster결과를 비교해서 그 결과가 얼마나 비슷한지/다른지를 알아본다. \n",
    "\n",
    "K-Means clustering에서 K는 일단 임의로 4개로 정한다\n",
    "<a name='4-1'></a>\n",
    "#### 4-1. K-Means clustering"
   ]
  },
  {
   "cell_type": "code",
   "execution_count": 40,
   "metadata": {},
   "outputs": [],
   "source": [
    "from sklearn.cluster import KMeans\n",
    "from sklearn.pipeline import make_pipeline"
   ]
  },
  {
   "cell_type": "code",
   "execution_count": 41,
   "metadata": {},
   "outputs": [
    {
     "data": {
      "text/html": [
       "<div>\n",
       "<style>\n",
       "    .dataframe thead tr:only-child th {\n",
       "        text-align: right;\n",
       "    }\n",
       "\n",
       "    .dataframe thead th {\n",
       "        text-align: left;\n",
       "    }\n",
       "\n",
       "    .dataframe tbody tr th {\n",
       "        vertical-align: top;\n",
       "    }\n",
       "</style>\n",
       "<table border=\"1\" class=\"dataframe\">\n",
       "  <thead>\n",
       "    <tr style=\"text-align: right;\">\n",
       "      <th></th>\n",
       "      <th>total_txs</th>\n",
       "      <th>total_skus</th>\n",
       "      <th>total_prods</th>\n",
       "      <th>total_sales</th>\n",
       "      <th>avg_prod_value</th>\n",
       "      <th>avg_bs</th>\n",
       "      <th>min_bs</th>\n",
       "      <th>max_bs</th>\n",
       "    </tr>\n",
       "    <tr>\n",
       "      <th>CustomerID</th>\n",
       "      <th></th>\n",
       "      <th></th>\n",
       "      <th></th>\n",
       "      <th></th>\n",
       "      <th></th>\n",
       "      <th></th>\n",
       "      <th></th>\n",
       "      <th></th>\n",
       "    </tr>\n",
       "  </thead>\n",
       "  <tbody>\n",
       "    <tr>\n",
       "      <th>12347</th>\n",
       "      <td>7</td>\n",
       "      <td>103</td>\n",
       "      <td>182</td>\n",
       "      <td>4310.00</td>\n",
       "      <td>23.681319</td>\n",
       "      <td>615.714286</td>\n",
       "      <td>224.82</td>\n",
       "      <td>1294.32</td>\n",
       "    </tr>\n",
       "    <tr>\n",
       "      <th>12348</th>\n",
       "      <td>4</td>\n",
       "      <td>22</td>\n",
       "      <td>31</td>\n",
       "      <td>1797.24</td>\n",
       "      <td>57.975484</td>\n",
       "      <td>449.310000</td>\n",
       "      <td>227.44</td>\n",
       "      <td>892.80</td>\n",
       "    </tr>\n",
       "    <tr>\n",
       "      <th>12349</th>\n",
       "      <td>1</td>\n",
       "      <td>73</td>\n",
       "      <td>73</td>\n",
       "      <td>1757.55</td>\n",
       "      <td>24.076027</td>\n",
       "      <td>1757.550000</td>\n",
       "      <td>1757.55</td>\n",
       "      <td>1757.55</td>\n",
       "    </tr>\n",
       "    <tr>\n",
       "      <th>12350</th>\n",
       "      <td>1</td>\n",
       "      <td>17</td>\n",
       "      <td>17</td>\n",
       "      <td>334.40</td>\n",
       "      <td>19.670588</td>\n",
       "      <td>334.400000</td>\n",
       "      <td>334.40</td>\n",
       "      <td>334.40</td>\n",
       "    </tr>\n",
       "    <tr>\n",
       "      <th>12352</th>\n",
       "      <td>8</td>\n",
       "      <td>59</td>\n",
       "      <td>85</td>\n",
       "      <td>2506.04</td>\n",
       "      <td>29.482824</td>\n",
       "      <td>313.255000</td>\n",
       "      <td>120.33</td>\n",
       "      <td>840.30</td>\n",
       "    </tr>\n",
       "  </tbody>\n",
       "</table>\n",
       "</div>"
      ],
      "text/plain": [
       "            total_txs  total_skus  total_prods  total_sales  avg_prod_value  \\\n",
       "CustomerID                                                                    \n",
       "12347               7         103          182      4310.00       23.681319   \n",
       "12348               4          22           31      1797.24       57.975484   \n",
       "12349               1          73           73      1757.55       24.076027   \n",
       "12350               1          17           17       334.40       19.670588   \n",
       "12352               8          59           85      2506.04       29.482824   \n",
       "\n",
       "                 avg_bs   min_bs   max_bs  \n",
       "CustomerID                                 \n",
       "12347        615.714286   224.82  1294.32  \n",
       "12348        449.310000   227.44   892.80  \n",
       "12349       1757.550000  1757.55  1757.55  \n",
       "12350        334.400000   334.40   334.40  \n",
       "12352        313.255000   120.33   840.30  "
      ]
     },
     "execution_count": 41,
     "metadata": {},
     "output_type": "execute_result"
    }
   ],
   "source": [
    "#1. customer dimension\n",
    "customer_dim_df.head()"
   ]
  },
  {
   "cell_type": "code",
   "execution_count": 42,
   "metadata": {},
   "outputs": [
    {
     "data": {
      "text/plain": [
       "Pipeline(memory=None,\n",
       "     steps=[('standardscaler', StandardScaler(copy=True, with_mean=True, with_std=True)), ('kmeans', KMeans(algorithm='auto', copy_x=True, init='k-means++', max_iter=300,\n",
       "    n_clusters=4, n_init=10, n_jobs=1, precompute_distances='auto',\n",
       "    random_state=None, tol=0.0001, verbose=0))])"
      ]
     },
     "execution_count": 42,
     "metadata": {},
     "output_type": "execute_result"
    }
   ],
   "source": [
    "k_means_1 = make_pipeline(StandardScaler(), KMeans(n_clusters=4))\n",
    "k_means_1.fit(customer_dim_df)"
   ]
  },
  {
   "cell_type": "code",
   "execution_count": 43,
   "metadata": {},
   "outputs": [],
   "source": [
    "customer_dim_df['cluster'] = k_means_1.predict(customer_dim_df)"
   ]
  },
  {
   "cell_type": "code",
   "execution_count": 44,
   "metadata": {},
   "outputs": [
    {
     "data": {
      "text/plain": [
       "<seaborn.axisgrid.FacetGrid at 0x114ad5198>"
      ]
     },
     "execution_count": 44,
     "metadata": {},
     "output_type": "execute_result"
    },
    {
     "data": {
      "image/png": "[encoded data removed]",
      "text/plain": [
       "<matplotlib.figure.Figure at 0x114ad5278>"
      ]
     },
     "metadata": {},
     "output_type": "display_data"
    }
   ],
   "source": [
    "# clusters in plot \n",
    "sns.lmplot(x='total_sales', y='avg_bs', hue='cluster',\n",
    "           data=customer_dim_df, fit_reg=False)"
   ]
  },
  {
   "cell_type": "markdown",
   "metadata": {},
   "source": [
    "- 0번 cluster의 경우 거의 나타나지 않음\n",
    "- 1번 cluster: 한번 시킬때 basket size는 적지만 자주 구매\n",
    "- 2번 cluster: basket size도 적고 구매도 단일성 (가장 많은 고객들이 이 그룹에 속함)\n",
    "- 3번 cluster: basket size가 높은 경우 "
   ]
  },
  {
   "cell_type": "code",
   "execution_count": 45,
   "metadata": {},
   "outputs": [
    {
     "data": {
      "text/html": [
       "<div>\n",
       "<style>\n",
       "    .dataframe thead tr:only-child th {\n",
       "        text-align: right;\n",
       "    }\n",
       "\n",
       "    .dataframe thead th {\n",
       "        text-align: left;\n",
       "    }\n",
       "\n",
       "    .dataframe tbody tr th {\n",
       "        vertical-align: top;\n",
       "    }\n",
       "</style>\n",
       "<table border=\"1\" class=\"dataframe\">\n",
       "  <thead>\n",
       "    <tr style=\"text-align: right;\">\n",
       "      <th></th>\n",
       "      <th>total_txs</th>\n",
       "      <th>total_skus</th>\n",
       "      <th>total_prods</th>\n",
       "      <th>total_sales</th>\n",
       "      <th>avg_prod_value</th>\n",
       "      <th>avg_bs</th>\n",
       "      <th>min_bs</th>\n",
       "      <th>max_bs</th>\n",
       "      <th>cluster</th>\n",
       "      <th>feature_1</th>\n",
       "      <th>...</th>\n",
       "      <th>feature_191</th>\n",
       "      <th>feature_192</th>\n",
       "      <th>feature_193</th>\n",
       "      <th>feature_194</th>\n",
       "      <th>feature_195</th>\n",
       "      <th>feature_196</th>\n",
       "      <th>feature_197</th>\n",
       "      <th>feature_198</th>\n",
       "      <th>feature_199</th>\n",
       "      <th>feature_200</th>\n",
       "    </tr>\n",
       "    <tr>\n",
       "      <th>CustomerID</th>\n",
       "      <th></th>\n",
       "      <th></th>\n",
       "      <th></th>\n",
       "      <th></th>\n",
       "      <th></th>\n",
       "      <th></th>\n",
       "      <th></th>\n",
       "      <th></th>\n",
       "      <th></th>\n",
       "      <th></th>\n",
       "      <th></th>\n",
       "      <th></th>\n",
       "      <th></th>\n",
       "      <th></th>\n",
       "      <th></th>\n",
       "      <th></th>\n",
       "      <th></th>\n",
       "      <th></th>\n",
       "      <th></th>\n",
       "      <th></th>\n",
       "      <th></th>\n",
       "    </tr>\n",
       "  </thead>\n",
       "  <tbody>\n",
       "    <tr>\n",
       "      <th>12347</th>\n",
       "      <td>7</td>\n",
       "      <td>103</td>\n",
       "      <td>182</td>\n",
       "      <td>4310.00</td>\n",
       "      <td>23.681319</td>\n",
       "      <td>615.714286</td>\n",
       "      <td>224.82</td>\n",
       "      <td>1294.32</td>\n",
       "      <td>0</td>\n",
       "      <td>5.876140</td>\n",
       "      <td>...</td>\n",
       "      <td>-0.054708</td>\n",
       "      <td>-0.078772</td>\n",
       "      <td>0.220371</td>\n",
       "      <td>-0.041625</td>\n",
       "      <td>0.100796</td>\n",
       "      <td>-0.174757</td>\n",
       "      <td>-0.031808</td>\n",
       "      <td>0.185542</td>\n",
       "      <td>0.009526</td>\n",
       "      <td>0.207429</td>\n",
       "    </tr>\n",
       "    <tr>\n",
       "      <th>12348</th>\n",
       "      <td>4</td>\n",
       "      <td>22</td>\n",
       "      <td>31</td>\n",
       "      <td>1797.24</td>\n",
       "      <td>57.975484</td>\n",
       "      <td>449.310000</td>\n",
       "      <td>227.44</td>\n",
       "      <td>892.80</td>\n",
       "      <td>3</td>\n",
       "      <td>-4.219837</td>\n",
       "      <td>...</td>\n",
       "      <td>-0.938278</td>\n",
       "      <td>-2.051579</td>\n",
       "      <td>-1.078936</td>\n",
       "      <td>2.150264</td>\n",
       "      <td>-2.208037</td>\n",
       "      <td>-3.314108</td>\n",
       "      <td>1.412333</td>\n",
       "      <td>-2.711985</td>\n",
       "      <td>-4.416558</td>\n",
       "      <td>-4.514242</td>\n",
       "    </tr>\n",
       "    <tr>\n",
       "      <th>12349</th>\n",
       "      <td>1</td>\n",
       "      <td>73</td>\n",
       "      <td>73</td>\n",
       "      <td>1757.55</td>\n",
       "      <td>24.076027</td>\n",
       "      <td>1757.550000</td>\n",
       "      <td>1757.55</td>\n",
       "      <td>1757.55</td>\n",
       "      <td>3</td>\n",
       "      <td>-1.260847</td>\n",
       "      <td>...</td>\n",
       "      <td>-3.183575</td>\n",
       "      <td>1.299916</td>\n",
       "      <td>-2.975303</td>\n",
       "      <td>3.029313</td>\n",
       "      <td>1.060271</td>\n",
       "      <td>3.537821</td>\n",
       "      <td>-2.549542</td>\n",
       "      <td>-0.571411</td>\n",
       "      <td>-3.363025</td>\n",
       "      <td>-1.627964</td>\n",
       "    </tr>\n",
       "    <tr>\n",
       "      <th>12350</th>\n",
       "      <td>1</td>\n",
       "      <td>17</td>\n",
       "      <td>17</td>\n",
       "      <td>334.40</td>\n",
       "      <td>19.670588</td>\n",
       "      <td>334.400000</td>\n",
       "      <td>334.40</td>\n",
       "      <td>334.40</td>\n",
       "      <td>3</td>\n",
       "      <td>-4.929320</td>\n",
       "      <td>...</td>\n",
       "      <td>-2.951711</td>\n",
       "      <td>0.442039</td>\n",
       "      <td>-1.501844</td>\n",
       "      <td>-0.765812</td>\n",
       "      <td>-0.064748</td>\n",
       "      <td>-1.436384</td>\n",
       "      <td>1.267713</td>\n",
       "      <td>-0.814686</td>\n",
       "      <td>1.683467</td>\n",
       "      <td>1.082198</td>\n",
       "    </tr>\n",
       "    <tr>\n",
       "      <th>12352</th>\n",
       "      <td>8</td>\n",
       "      <td>59</td>\n",
       "      <td>85</td>\n",
       "      <td>2506.04</td>\n",
       "      <td>29.482824</td>\n",
       "      <td>313.255000</td>\n",
       "      <td>120.33</td>\n",
       "      <td>840.30</td>\n",
       "      <td>3</td>\n",
       "      <td>-2.053113</td>\n",
       "      <td>...</td>\n",
       "      <td>-2.631139</td>\n",
       "      <td>-0.778333</td>\n",
       "      <td>2.246837</td>\n",
       "      <td>1.161286</td>\n",
       "      <td>-1.584022</td>\n",
       "      <td>0.724579</td>\n",
       "      <td>-0.422738</td>\n",
       "      <td>0.682334</td>\n",
       "      <td>-0.028058</td>\n",
       "      <td>-1.469663</td>\n",
       "    </tr>\n",
       "  </tbody>\n",
       "</table>\n",
       "<p>5 rows × 209 columns</p>\n",
       "</div>"
      ],
      "text/plain": [
       "            total_txs  total_skus  total_prods  total_sales  avg_prod_value  \\\n",
       "CustomerID                                                                    \n",
       "12347               7         103          182      4310.00       23.681319   \n",
       "12348               4          22           31      1797.24       57.975484   \n",
       "12349               1          73           73      1757.55       24.076027   \n",
       "12350               1          17           17       334.40       19.670588   \n",
       "12352               8          59           85      2506.04       29.482824   \n",
       "\n",
       "                 avg_bs   min_bs   max_bs  cluster  feature_1     ...       \\\n",
       "CustomerID                                                        ...        \n",
       "12347        615.714286   224.82  1294.32        0   5.876140     ...        \n",
       "12348        449.310000   227.44   892.80        3  -4.219837     ...        \n",
       "12349       1757.550000  1757.55  1757.55        3  -1.260847     ...        \n",
       "12350        334.400000   334.40   334.40        3  -4.929320     ...        \n",
       "12352        313.255000   120.33   840.30        3  -2.053113     ...        \n",
       "\n",
       "            feature_191  feature_192  feature_193  feature_194  feature_195  \\\n",
       "CustomerID                                                                    \n",
       "12347         -0.054708    -0.078772     0.220371    -0.041625     0.100796   \n",
       "12348         -0.938278    -2.051579    -1.078936     2.150264    -2.208037   \n",
       "12349         -3.183575     1.299916    -2.975303     3.029313     1.060271   \n",
       "12350         -2.951711     0.442039    -1.501844    -0.765812    -0.064748   \n",
       "12352         -2.631139    -0.778333     2.246837     1.161286    -1.584022   \n",
       "\n",
       "            feature_196  feature_197  feature_198  feature_199  feature_200  \n",
       "CustomerID                                                                   \n",
       "12347         -0.174757    -0.031808     0.185542     0.009526     0.207429  \n",
       "12348         -3.314108     1.412333    -2.711985    -4.416558    -4.514242  \n",
       "12349          3.537821    -2.549542    -0.571411    -3.363025    -1.627964  \n",
       "12350         -1.436384     1.267713    -0.814686     1.683467     1.082198  \n",
       "12352          0.724579    -0.422738     0.682334    -0.028058    -1.469663  \n",
       "\n",
       "[5 rows x 209 columns]"
      ]
     },
     "execution_count": 45,
     "metadata": {},
     "output_type": "execute_result"
    }
   ],
   "source": [
    "# 2. customer dimension + newly generated features \n",
    "new_customer_dim_df = customer_dim_df.join(new_features_df)\n",
    "new_customer_dim_df.head()"
   ]
  },
  {
   "cell_type": "code",
   "execution_count": 46,
   "metadata": {},
   "outputs": [
    {
     "data": {
      "text/plain": [
       "Pipeline(memory=None,\n",
       "     steps=[('standardscaler', StandardScaler(copy=True, with_mean=True, with_std=True)), ('kmeans', KMeans(algorithm='auto', copy_x=True, init='k-means++', max_iter=300,\n",
       "    n_clusters=4, n_init=10, n_jobs=1, precompute_distances='auto',\n",
       "    random_state=None, tol=0.0001, verbose=0))])"
      ]
     },
     "execution_count": 46,
     "metadata": {},
     "output_type": "execute_result"
    }
   ],
   "source": [
    "k_means_2 = make_pipeline(StandardScaler(), KMeans(n_clusters=4))\n",
    "k_means_2.fit(new_customer_dim_df)"
   ]
  },
  {
   "cell_type": "code",
   "execution_count": 47,
   "metadata": {},
   "outputs": [],
   "source": [
    "new_customer_dim_df['cluster'] = k_means_2.predict(new_customer_dim_df)"
   ]
  },
  {
   "cell_type": "code",
   "execution_count": 48,
   "metadata": {},
   "outputs": [
    {
     "data": {
      "text/plain": [
       "<seaborn.axisgrid.FacetGrid at 0x115f30da0>"
      ]
     },
     "execution_count": 48,
     "metadata": {},
     "output_type": "execute_result"
    },
    {
     "data": {
      "image/png": "[encoded data removed]",
      "text/plain": [
       "<matplotlib.figure.Figure at 0x115d1e780>"
      ]
     },
     "metadata": {},
     "output_type": "display_data"
    }
   ],
   "source": [
    "# clusters in plot \n",
    "sns.lmplot(x='total_sales', y='avg_bs', hue='cluster',\n",
    "           data=new_customer_dim_df, fit_reg=False)"
   ]
  },
  {
   "cell_type": "markdown",
   "metadata": {},
   "source": [
    "- 0, 2번 cluster의 경우 거의 나타나지 않음\n",
    "- 1번 cluster: basket size가 높거나, total sales가 높은 경우 \n",
    "- 3번 cluster: 둘 다 낮은 경우 (저렴한거 한 두어번 사고 재구매 하지 않는 경우)"
   ]
  },
  {
   "cell_type": "markdown",
   "metadata": {},
   "source": [
    "<a name='4-2'></a>\n",
    "#### 4-2. Model Comparison"
   ]
  },
  {
   "cell_type": "code",
   "execution_count": 49,
   "metadata": {
    "collapsed": true
   },
   "outputs": [],
   "source": [
    "from sklearn.metrics import adjusted_rand_score"
   ]
  },
  {
   "cell_type": "code",
   "execution_count": 50,
   "metadata": {},
   "outputs": [
    {
     "data": {
      "text/plain": [
       "0.90842023103641589"
      ]
     },
     "execution_count": 50,
     "metadata": {},
     "output_type": "execute_result"
    }
   ],
   "source": [
    "# rand index \n",
    "adjusted_rand_score(new_customer_dim_df['cluster'], customer_dim_df['cluster'])"
   ]
  },
  {
   "cell_type": "markdown",
   "metadata": {},
   "source": [
    "다른 두 데이터 셋으로 클러스터링 했을 때, 그 결과 62%정도 비슷하다고 나왔다. 실제로 어떤 결과를 택할 것인지 알기 위해서는 데이터셋을 제공한 회사에 대한 도메인 지식이 더 필요할 것 같다. "
   ]
  }
 ],
 "metadata": {
  "kernelspec": {
   "display_name": "Python 3",
   "language": "python",
   "name": "python3"
  },
  "language_info": {
   "codemirror_mode": {
    "name": "ipython",
    "version": 3
   },
   "file_extension": ".py",
   "mimetype": "text/x-python",
   "name": "python",
   "nbconvert_exporter": "python",
   "pygments_lexer": "ipython3",
   "version": "3.6.4"
  }
 },
 "nbformat": 4,
 "nbformat_minor": 2
}
